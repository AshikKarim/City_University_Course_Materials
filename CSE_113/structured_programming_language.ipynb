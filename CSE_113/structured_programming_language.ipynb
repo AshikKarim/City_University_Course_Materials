{
  "nbformat": 4,
  "nbformat_minor": 0,
  "metadata": {
    "colab": {
      "provenance": [],
      "toc_visible": true
    },
    "kernelspec": {
      "name": "python3",
      "display_name": "Python 3"
    },
    "language_info": {
      "name": "python"
    }
  },
  "cells": [
    {
      "cell_type": "markdown",
      "source": [
        "# Difference between **Operator** and **Operand**"
      ],
      "metadata": {
        "id": "1RF65BfaHglD"
      }
    },
    {
      "cell_type": "markdown",
      "source": [
        "| Aspect | Operator | Operand |\n",
        "| -------- | -------- | -------- |\n",
        "|Definition    | A symbol that tells the computer what operation to perform.   | The data or values on which the operation is performed.   |\n",
        "| Role     | It performs operations like addition, subtraction, etc.  | It is the input on which the operation is applied.   |\n",
        "| Example   | `+, - , * , / `   | In `a + b`, both `a` and `b` are operands.    |\n",
        "| Example in Code  | `int result = a + b;`    | Here, `a` and `b` are operands used by the `+` operator.    |"
      ],
      "metadata": {
        "id": "Mswkqjc0HtMi"
      }
    },
    {
      "cell_type": "markdown",
      "source": [
        "# Difference between **Variable** and **Constant**\n"
      ],
      "metadata": {
        "id": "-o4VSLpkIsJS"
      }
    },
    {
      "cell_type": "markdown",
      "source": [
        "| Aspect | Variable | Constant |\n",
        "| -------- | -------- | -------- |\n",
        "|Definition    | A named storage that can hold data that may change during program execution.   | A named storage whose value remains fixed throughout the program.   |\n",
        "| Syntax   | `data_type variable_name = value;`  | `const data_type constant_name = value;`   |\n",
        "| Value Modification  | The value can be changed anytime in the program.  | The value cannot be changed once assigned.  |\n",
        "| Memory Allocation |Memory can be updated whenever the value changes.    | Memory remains unchanged after initialization.   |\n",
        "| Example |` int age = 25;` (can be updated later)    |`const int MAX_AGE = 100;` (cannot be changed)   |"
      ],
      "metadata": {
        "id": "O8enM7zBI0Kd"
      }
    },
    {
      "cell_type": "markdown",
      "source": [
        "# How to Define a **Constant in C**?"
      ],
      "metadata": {
        "id": "oCaLzGg_JrV7"
      }
    },
    {
      "cell_type": "markdown",
      "source": [
        "In C, a constant is defined in two main ways:\n",
        "\n",
        "1. Using `#define` Preprocessor Directive:\n",
        "This method defines a constant without using any memory space for it directly."
      ],
      "metadata": {
        "id": "CMZFq80MJ1HS"
      }
    },
    {
      "cell_type": "markdown",
      "source": [
        "Syntax For Defining Constant In C Using #Define Directive:\n",
        "\n",
        "\n",
        "> `#define CONSTANT_NAME constant_value`\n",
        "\n"
      ],
      "metadata": {
        "id": "OGalRVmBQwkn"
      }
    },
    {
      "cell_type": "markdown",
      "source": [
        "# Code Example"
      ],
      "metadata": {
        "id": "NxZwGKa6Q7o6"
      }
    },
    {
      "cell_type": "code",
      "source": [
        "#include <stdio.h>\n",
        "#define PI 3.14159\n",
        "\n",
        "int main() {\n",
        "    printf(\"The value of PI is: %f\\n\", PI);\n",
        "    return 0;\n",
        "}"
      ],
      "metadata": {
        "id": "uYSlB4DOSb9M"
      },
      "execution_count": null,
      "outputs": []
    },
    {
      "cell_type": "markdown",
      "source": [
        "**Explanation:**\n",
        "-------\n",
        "*   `#define PI 3.14159` replaces all occurrences of `PI` in the code with `3.14159` before compilation.\n",
        "*   This is a preprocessor directive, meaning it happens before the program is compiled.\n",
        "\n",
        "\n",
        "\n",
        "\n",
        "---\n",
        "\n"
      ],
      "metadata": {
        "id": "p4vFS8NkHfIW"
      }
    },
    {
      "cell_type": "markdown",
      "source": [
        "2. Using `const` Keyword. This method defines a constant variable in memory."
      ],
      "metadata": {
        "id": "FitokESULCEd"
      }
    },
    {
      "cell_type": "markdown",
      "source": [
        "Syntax For Defining Constant In C:\n",
        "\n",
        "\n",
        "> `const data_type constant_name = value;`\n",
        "\n"
      ],
      "metadata": {
        "id": "xhkHw-loRIif"
      }
    },
    {
      "cell_type": "markdown",
      "source": [
        "# Code Example"
      ],
      "metadata": {
        "id": "HmLkOlYoRMYW"
      }
    },
    {
      "cell_type": "code",
      "source": [
        "#include <stdio.h>\n",
        "\n",
        "int main() {\n",
        "    const int DAYS_IN_WEEK = 7;\n",
        "    printf(\"There are %d days in a week.\\n\", DAYS_IN_WEEK);\n",
        "    return 0;\n",
        "}"
      ],
      "metadata": {
        "id": "zv-Medu7LG2d"
      },
      "execution_count": null,
      "outputs": []
    },
    {
      "cell_type": "markdown",
      "source": [
        "Explanation:\n",
        "*   `const int DAYS_IN_WEEK = 7; `declares a constant integer variable.\n",
        "*   The value of `DAYS_IN_WEEK` cannot be changed during program execution. Attempting to change it will cause a compile-time error.\n",
        "\n",
        "\n"
      ],
      "metadata": {
        "id": "qwPtFYOQLJMN"
      }
    },
    {
      "cell_type": "markdown",
      "source": [
        "# Difference between **Compile-Time Error** and **Runtime Error**"
      ],
      "metadata": {
        "id": "DavoAUIKLaDy"
      }
    },
    {
      "cell_type": "markdown",
      "source": [
        "| Aspect | Compile-Time Error| Runtime Error |\n",
        "| -------- | -------- | -------- |\n",
        "|When it occurs|Occurs during the compilation of the code. |Occurs while the program is running. |\n",
        "| Detection | \tDetected by the compiler before the program executes.| Detected only during program execution. |\n",
        "| Examples  | Syntax errors, missing semicolons, undeclared variables.|Division by zero, accessing invalid memory, array out of bounds.|\n",
        "| Effect |Prevents the code from compiling successfully.|Crashes or behaves unexpectedly at runtime. |\n",
        "| Fixability |Must be fixed before running the program.    |Only becomes apparent when the issue is triggered during execution. |\n",
        "| Example in Code (C) |` int x = \"hello\"; // type mismatch`   |`int a = 5 / 0; // division by zero` |\n",
        "| Error Message Example |` \"error: incompatible types\"`   |`\"Floating point exception\"`   |"
      ],
      "metadata": {
        "id": "fXgV6MMwLkhD"
      }
    },
    {
      "cell_type": "markdown",
      "source": [
        "# Data Types"
      ],
      "metadata": {
        "id": "qnrgXNllNPip"
      }
    },
    {
      "cell_type": "markdown",
      "source": [
        "| **Category**      | **Data Type**   | **Description**                           | **Example Code**                          | **Memory Size (approx.)** |\n",
        "|-------------------|----------------|-------------------------------------------|-------------------------------------------|---------------------------|\n",
        "| **Basic**         | `int`           | Stores integers (whole numbers).          | `int age = 25;`                           | 4 bytes                   |\n",
        "|                   | `float`         | Stores decimal numbers (single precision).| `float pi = 3.14;`                        | 4 bytes                   |\n",
        "|                   | `double`        | Stores decimal numbers (double precision).| `double largePi = 3.141592;`              | 8 bytes                   |\n",
        "|                   | `char`          | Stores a single character.                | `char grade = 'A';`                       | 1 byte                    |\n",
        "|                   | `void`          | Represents absence of value. Used in functions that don't return anything. | `void display();`      | N/A                       |\n",
        "| **Derived**       | `array`         | Collection of elements of the same type.  | `int numbers[5] = {1, 2, 3, 4, 5};`      | Depends on type.          |\n",
        "|                   | `pointer`       | Stores the address of another variable.   | `int *ptr = &age;`                        | 4 or 8 bytes              |\n",
        "|                   | `struct`        | Groups different types together.          | `struct Person { int age; char name[20]; };` | Sum of all members.   |\n",
        "| **Enumeration**   | `enum`          | Defines a set of named integral constants.| `enum Color { RED, GREEN, BLUE };`        | 4 bytes                   |\n",
        "| **Type Modifiers**| `signed`        | Allows storing positive and negative values.| `signed int x = -5;`                    | 4 bytes                   |\n",
        "|                   | `unsigned`      | Stores only non-negative values.          | `unsigned int y = 5;`                    | 4 bytes                   |\n",
        "|                   | `short`         | Stores smaller integer values.            | `short int s = 32000;`                   | 2 bytes                   |\n",
        "|                   | `long`          | Stores larger integer values.             | `long int l = 1000000;`                  | 8 bytes                   |\n"
      ],
      "metadata": {
        "id": "-r_-fpuKNUXg"
      }
    },
    {
      "cell_type": "markdown",
      "source": [
        "**Summary**\n",
        "----\n",
        "*   Basic types include `int`, `float`, `char`, and `void`.\n",
        "*   Derived types are arrays, pointers, and structures.\n",
        "*  Enumerations allow defining a set of related constants.\n",
        "*   Type modifiers (like `signed` and `unsigned`) adjust how data is stored.\n",
        "\n"
      ],
      "metadata": {
        "id": "ZevTZ6WuN9OG"
      }
    },
    {
      "cell_type": "markdown",
      "source": [
        "# C Code Example: Using **Various Data Types**"
      ],
      "metadata": {
        "id": "jnk9f2tqOdOP"
      }
    },
    {
      "cell_type": "code",
      "source": [
        "#include <stdio.h>  // Standard input-output library\n",
        "\n",
        "// Defining a structure\n",
        "struct Person {\n",
        "    int age;           // int: to store age\n",
        "    char name[20];     // char array: to store name\n",
        "    float height;      // float: to store height\n",
        "};\n",
        "\n",
        "// Using enum to define constants\n",
        "enum Color { RED, GREEN, BLUE };\n",
        "\n",
        "int main() {\n",
        "    // Basic Data Types\n",
        "    int year = 2024;           // Integer\n",
        "    float pi = 3.14159;         // Float\n",
        "    double largeNumber = 1.23456789;  // Double\n",
        "    char grade = 'A';           // Character\n",
        "\n",
        "    // Derived Data Types\n",
        "    int scores[3] = {85, 90, 95};  // Array\n",
        "    int *ptr = &year;              // Pointer\n",
        "\n",
        "    // Structure Variable\n",
        "    struct Person person1 = {25, \"Akash\", 5.8};\n",
        "\n",
        "    // Enum Variable\n",
        "    enum Color favoriteColor = GREEN;\n",
        "\n",
        "    // Output Section\n",
        "    printf(\"Year: %d\\n\", year);\n",
        "    printf(\"Value of pi: %.2f\\n\", pi);\n",
        "    printf(\"Large number: %.8lf\\n\", largeNumber);\n",
        "    printf(\"Grade: %c\\n\", grade);\n",
        "\n",
        "    printf(\"Scores: %d, %d, %d\\n\", scores[0], scores[1], scores[2]);\n",
        "    printf(\"Pointer to year: %p, Value: %d\\n\", (void*)ptr, *ptr);\n",
        "\n",
        "    printf(\"Person's Name: %s, Age: %d, Height: %.1f\\n\", person1.name, person1.age, person1.height);\n",
        "\n",
        "    printf(\"Favorite Color: %d (GREEN)\\n\", favoriteColor);\n",
        "\n",
        "    return 0;\n",
        "}\n"
      ],
      "metadata": {
        "id": "3ATTi5MAOPvg"
      },
      "execution_count": null,
      "outputs": []
    },
    {
      "cell_type": "markdown",
      "source": [
        "**Explanation**\n",
        "-----\n",
        "**1. Basic Data Types:**\n",
        "*  `int year = 2024; `stores an integer value.\n",
        "* `float pi = 3.14159;` stores a floating-point value.\n",
        "* `char grade = 'A'; `stores a single character.\n",
        "\n",
        "**2. Derived Data Types:**\n",
        "* Array: `scores[3]` stores 3 integer values.\n",
        "* Pointer: `int *ptr = &year;` stores the address of the `year` variable.\n",
        "\n",
        "**3. Structure:**\n",
        "* The `Person` structure groups multiple variables of different types together.\n",
        "\n",
        "**4. Enumeration:**\n",
        "* `enum Color` defines constants (RED, GREEN, BLUE) and we assign` GREEN `to `favoriteColor`."
      ],
      "metadata": {
        "id": "IzzwTK2_OlSM"
      }
    }
  ]
}